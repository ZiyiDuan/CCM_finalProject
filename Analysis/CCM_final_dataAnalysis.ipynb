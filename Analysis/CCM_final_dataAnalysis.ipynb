{
 "cells": [
  {
   "attachments": {},
   "cell_type": "markdown",
   "metadata": {},
   "source": [
    "# CCM Final DataAnalysis"
   ]
  },
  {
   "attachments": {},
   "cell_type": "markdown",
   "metadata": {},
   "source": [
    "## Content\n",
    "    1. Load data and preprocessing\n",
    "    2. Compare error and RT between reference types\n",
    "    3. Visualize target vs. response orientation distributions\n",
    "    4. Sort error in terms of reference types"
   ]
  },
  {
   "cell_type": "code",
   "execution_count": 9,
   "metadata": {},
   "outputs": [],
   "source": [
    "import os\n",
    "import pandas as pd\n",
    "import numpy as np\n",
    "import matplotlib.pyplot as plt\n",
    "from scipy.stats import norm\n",
    "import seaborn as sns"
   ]
  },
  {
   "cell_type": "code",
   "execution_count": 23,
   "metadata": {},
   "outputs": [
    {
     "name": "stdout",
     "output_type": "stream",
     "text": [
      "   subjID  run  trial  phase  oriRef  oriJitt  oriFinal  oriRespInit  \\\n",
      "0       1    1      1      9       2       -9        36           63   \n",
      "1       1    1      2      3       1       -9       171           85   \n",
      "2       1    1      3      4       2       -1        44           58   \n",
      "3       1    1      4      1       3        6        96           12   \n",
      "4       1    1      5      3       4        3       138           43   \n",
      "\n",
      "   oriRespFinal  error  points        rt  outoftime  iti  \n",
      "0            62    -26      48  2.609021        NaN  0.2  \n",
      "1           165      6      88  3.047162        NaN  0.2  \n",
      "2            53     -9      82  2.500657        NaN  0.2  \n",
      "3            99     -3      94  3.697208        NaN  0.2  \n",
      "4           143     -5      90  3.665645        NaN  0.2  \n"
     ]
    }
   ],
   "source": [
    "pwd = os.getcwd()\n",
    "data_dir = os.path.abspath(os.path.join(pwd, 'SubjectData/data_beh.csv'))\n",
    "data = pd.read_csv(data_dir,sep=',')\n",
    "\n",
    "print(data.head())"
   ]
  },
  {
   "cell_type": "code",
   "execution_count": 33,
   "metadata": {},
   "outputs": [],
   "source": [
    "# define ori reference\n",
    "oriRefs = [0, 45, 90, 135]\n",
    "# centralize oriFinal and oriResp relative to ori\n",
    "for i in range(len(data)):\n",
    "    data.loc[i, 'oriFinal_centralized'] = data.loc[i, 'oriFinal'] - oriRefs[data.loc[i, 'oriRef']-1]\n",
    "    data.loc[i, 'oriRespFinal_centralized'] = data.loc[i, 'oriRespFinal'] - oriRefs[data.loc[i, 'oriRef']-1]\n",
    "    if data.loc[i, 'oriFinal_centralized'] > 90:\n",
    "        data.loc[i, 'oriFinal_centralized'] = data.loc[i, 'oriFinal_centralized'] - 180\n",
    "    if data.loc[i, 'oriRespFinal_centralized'] > 90:\n",
    "        data.loc[i, 'oriRespFinal_centralized'] = data.loc[i, 'oriRespFinal_centralized'] - 180"
   ]
  },
  {
   "cell_type": "code",
   "execution_count": 34,
   "metadata": {},
   "outputs": [
    {
     "name": "stdout",
     "output_type": "stream",
     "text": [
      "   subjID  run  trial  phase  oriRef  oriJitt  oriFinal  oriRespInit  \\\n",
      "0       1    1      1      9       2       -9        36           63   \n",
      "1       1    1      2      3       1       -9       171           85   \n",
      "2       1    1      3      4       2       -1        44           58   \n",
      "3       1    1      4      1       3        6        96           12   \n",
      "4       1    1      5      3       4        3       138           43   \n",
      "\n",
      "   oriRespFinal  error  points        rt  outoftime  iti  \\\n",
      "0            62    -26      48  2.609021        NaN  0.2   \n",
      "1           165      6      88  3.047162        NaN  0.2   \n",
      "2            53     -9      82  2.500657        NaN  0.2   \n",
      "3            99     -3      94  3.697208        NaN  0.2   \n",
      "4           143     -5      90  3.665645        NaN  0.2   \n",
      "\n",
      "   oriFinal_centralized  oriRespFinal_centralized  absError  bias  signError  \n",
      "0                  -9.0                      17.0        26   1.0       26.0  \n",
      "1                  -9.0                     -15.0         6  -1.0       -6.0  \n",
      "2                  -1.0                       8.0         9   1.0        9.0  \n",
      "3                   6.0                       9.0         3  -1.0       -3.0  \n",
      "4                   3.0                       8.0         5  -1.0       -5.0  \n"
     ]
    }
   ],
   "source": [
    "# calculate absolute error\n",
    "data['absError'] = abs(data['error'])\n",
    "\n",
    "# decide if resp is bias toward or away from oriRef\n",
    "for i in range(len(data)):\n",
    "    # find oriRef\n",
    "    oriRef_i = oriRefs[data.loc[i, 'oriRef']-1]\n",
    "    if data.loc[i, 'oriRef']==1 and data.loc[i, 'oriJitt']<0:\n",
    "        oriRef_i = 180\n",
    "    # find oriFinal\n",
    "    oriFinal_i = data.loc[i, 'oriFinal']\n",
    "    # find oriResp\n",
    "    oriResp_i = data.loc[i, 'oriRespFinal']\n",
    "    # decide if resp is in the same direction as oriRef\n",
    "    if (oriRef_i-oriFinal_i)*(oriResp_i-oriFinal_i)>0:\n",
    "        data.loc[i, 'bias'] = 1\n",
    "    else:\n",
    "        data.loc[i, 'bias'] = -1\n",
    "\n",
    "# calculate signed error\n",
    "data['signError'] = data['absError']*data['bias']\n",
    "\n",
    "print(data.head())"
   ]
  },
  {
   "cell_type": "code",
   "execution_count": 31,
   "metadata": {},
   "outputs": [
    {
     "data": {
      "text/plain": [
       "[Text(0, 0, '0deg'),\n",
       " Text(1, 0, '45deg'),\n",
       " Text(2, 0, '90deg'),\n",
       " Text(3, 0, '135deg')]"
      ]
     },
     "execution_count": 31,
     "metadata": {},
     "output_type": "execute_result"
    },
    {
     "data": {
      "image/png": "[encoded data removed]",
      "text/plain": [
       "<Figure size 640x480 with 1 Axes>"
      ]
     },
     "metadata": {},
     "output_type": "display_data"
    }
   ],
   "source": [
    "# plot errors\n",
    "# plot resulst across ROIs \n",
    "ax = plt.subplot()\n",
    "\n",
    "# draw bar plot\n",
    "sns.barplot(data, x='oriRef', y='absError', hue='oriRef', estimator='mean', errorbar='se', capsize=0.1, dodge=False, ax=ax)\n",
    "# draw individual points\n",
    "# sns.stripplot(data, x='oriRef', y='absError', hue='subjID', palette='flare', dodge=False, alpha=0.6, size=12, ax=ax)\n",
    "# remove legend\n",
    "plt.legend([], [], frameon=False)\n",
    "\n",
    "# set axis labels and title\n",
    "ax.set_ylabel('Mean absError')\n",
    "ax.set_xticklabels(['0deg', '45deg', '90deg', '135deg'])\n",
    "# ax.set_ylim(0.0, 1.0)"
   ]
  },
  {
   "cell_type": "code",
   "execution_count": 21,
   "metadata": {},
   "outputs": [
    {
     "data": {
      "text/plain": [
       "[Text(0, 0, '0deg'),\n",
       " Text(1, 0, '45deg'),\n",
       " Text(2, 0, '90deg'),\n",
       " Text(3, 0, '135deg')]"
      ]
     },
     "execution_count": 21,
     "metadata": {},
     "output_type": "execute_result"
    },
    {
     "data": {
      "image/png": "[encoded data removed]",
      "text/plain": [
       "<Figure size 640x480 with 1 Axes>"
      ]
     },
     "metadata": {},
     "output_type": "display_data"
    }
   ],
   "source": [
    "# plot rt\n",
    "# plot resulst across ROIs \n",
    "ax = plt.subplot()\n",
    "\n",
    "# draw bar plot\n",
    "sns.barplot(data, x='oriRef', y='rt', hue='oriRef', estimator='mean', errorbar='se', capsize=0.1, dodge=False, ax=ax)\n",
    "# draw individual points\n",
    "# sns.stripplot(data, x='oriRef', y='absError', hue='subjID', palette='flare', dodge=False, alpha=0.6, size=12, ax=ax)\n",
    "# remove legend\n",
    "plt.legend([], [], frameon=False)\n",
    "\n",
    "# set axis labels and title\n",
    "ax.set_ylabel('Mean RT')\n",
    "ax.set_xticklabels(['0deg', '45deg', '90deg', '135deg'])\n",
    "# ax.set_ylim(0.0, 1.0)"
   ]
  },
  {
   "cell_type": "code",
   "execution_count": 40,
   "metadata": {},
   "outputs": [
    {
     "data": {
      "image/png": "[encoded data removed]",
      "text/plain": [
       "<Figure size 640x480 with 2 Axes>"
      ]
     },
     "metadata": {},
     "output_type": "display_data"
    }
   ],
   "source": [
    "# plot oriFinal and oriResp distribution centralized at oriRef\n",
    "fig, axs = plt.subplots(2, 1)\n",
    "\n",
    "# Plot the target location histogram\n",
    "sns.histplot(data, x='oriFinal_centralized', ax=axs[0])\n",
    "axs[0].set_title('Target Location')\n",
    "axs[0].set_xlim(-90, 90)\n",
    "\n",
    "# plot the resp histogram\n",
    "sns.histplot(data, x='oriRespFinal_centralized', ax=axs[1])\n",
    "axs[1].set_title('Resp Location')\n",
    "axs[1].set_xlim(-90, 90)\n",
    "\n",
    "plt.tight_layout()"
   ]
  },
  {
   "cell_type": "code",
   "execution_count": null,
   "metadata": {},
   "outputs": [],
   "source": [
    "# plot "
   ]
  },
  {
   "cell_type": "code",
   "execution_count": 7,
   "metadata": {},
   "outputs": [
    {
     "name": "stdout",
     "output_type": "stream",
     "text": [
      "2319\n"
     ]
    },
    {
     "data": {
      "text/html": [
       "<div>\n",
       "<style scoped>\n",
       "    .dataframe tbody tr th:only-of-type {\n",
       "        vertical-align: middle;\n",
       "    }\n",
       "\n",
       "    .dataframe tbody tr th {\n",
       "        vertical-align: top;\n",
       "    }\n",
       "\n",
       "    .dataframe thead th {\n",
       "        text-align: right;\n",
       "    }\n",
       "</style>\n",
       "<table border=\"1\" class=\"dataframe\">\n",
       "  <thead>\n",
       "    <tr style=\"text-align: right;\">\n",
       "      <th></th>\n",
       "      <th>subjID</th>\n",
       "      <th>run</th>\n",
       "      <th>trial</th>\n",
       "      <th>phase</th>\n",
       "      <th>oriRef</th>\n",
       "      <th>oriJitt</th>\n",
       "      <th>oriFinal</th>\n",
       "      <th>oriRespInit</th>\n",
       "      <th>oriRespFinal</th>\n",
       "      <th>error</th>\n",
       "      <th>points</th>\n",
       "      <th>rt</th>\n",
       "      <th>outoftime</th>\n",
       "      <th>iti</th>\n",
       "    </tr>\n",
       "  </thead>\n",
       "  <tbody>\n",
       "    <tr>\n",
       "      <th>0</th>\n",
       "      <td>1</td>\n",
       "      <td>1</td>\n",
       "      <td>1</td>\n",
       "      <td>9</td>\n",
       "      <td>2</td>\n",
       "      <td>-9</td>\n",
       "      <td>36</td>\n",
       "      <td>63</td>\n",
       "      <td>62</td>\n",
       "      <td>-26</td>\n",
       "      <td>48</td>\n",
       "      <td>2.609021</td>\n",
       "      <td>NaN</td>\n",
       "      <td>0.2</td>\n",
       "    </tr>\n",
       "    <tr>\n",
       "      <th>1</th>\n",
       "      <td>1</td>\n",
       "      <td>1</td>\n",
       "      <td>2</td>\n",
       "      <td>3</td>\n",
       "      <td>1</td>\n",
       "      <td>-9</td>\n",
       "      <td>171</td>\n",
       "      <td>85</td>\n",
       "      <td>165</td>\n",
       "      <td>6</td>\n",
       "      <td>88</td>\n",
       "      <td>3.047162</td>\n",
       "      <td>NaN</td>\n",
       "      <td>0.2</td>\n",
       "    </tr>\n",
       "    <tr>\n",
       "      <th>2</th>\n",
       "      <td>1</td>\n",
       "      <td>1</td>\n",
       "      <td>3</td>\n",
       "      <td>4</td>\n",
       "      <td>2</td>\n",
       "      <td>-1</td>\n",
       "      <td>44</td>\n",
       "      <td>58</td>\n",
       "      <td>53</td>\n",
       "      <td>-9</td>\n",
       "      <td>82</td>\n",
       "      <td>2.500657</td>\n",
       "      <td>NaN</td>\n",
       "      <td>0.2</td>\n",
       "    </tr>\n",
       "    <tr>\n",
       "      <th>3</th>\n",
       "      <td>1</td>\n",
       "      <td>1</td>\n",
       "      <td>4</td>\n",
       "      <td>1</td>\n",
       "      <td>3</td>\n",
       "      <td>6</td>\n",
       "      <td>96</td>\n",
       "      <td>12</td>\n",
       "      <td>99</td>\n",
       "      <td>-3</td>\n",
       "      <td>94</td>\n",
       "      <td>3.697208</td>\n",
       "      <td>NaN</td>\n",
       "      <td>0.2</td>\n",
       "    </tr>\n",
       "    <tr>\n",
       "      <th>4</th>\n",
       "      <td>1</td>\n",
       "      <td>1</td>\n",
       "      <td>5</td>\n",
       "      <td>3</td>\n",
       "      <td>4</td>\n",
       "      <td>3</td>\n",
       "      <td>138</td>\n",
       "      <td>43</td>\n",
       "      <td>143</td>\n",
       "      <td>-5</td>\n",
       "      <td>90</td>\n",
       "      <td>3.665645</td>\n",
       "      <td>NaN</td>\n",
       "      <td>0.2</td>\n",
       "    </tr>\n",
       "    <tr>\n",
       "      <th>...</th>\n",
       "      <td>...</td>\n",
       "      <td>...</td>\n",
       "      <td>...</td>\n",
       "      <td>...</td>\n",
       "      <td>...</td>\n",
       "      <td>...</td>\n",
       "      <td>...</td>\n",
       "      <td>...</td>\n",
       "      <td>...</td>\n",
       "      <td>...</td>\n",
       "      <td>...</td>\n",
       "      <td>...</td>\n",
       "      <td>...</td>\n",
       "      <td>...</td>\n",
       "    </tr>\n",
       "    <tr>\n",
       "      <th>2394</th>\n",
       "      <td>15</td>\n",
       "      <td>1</td>\n",
       "      <td>155</td>\n",
       "      <td>7</td>\n",
       "      <td>3</td>\n",
       "      <td>-1</td>\n",
       "      <td>89</td>\n",
       "      <td>93</td>\n",
       "      <td>88</td>\n",
       "      <td>1</td>\n",
       "      <td>98</td>\n",
       "      <td>2.375790</td>\n",
       "      <td>NaN</td>\n",
       "      <td>0.2</td>\n",
       "    </tr>\n",
       "    <tr>\n",
       "      <th>2395</th>\n",
       "      <td>15</td>\n",
       "      <td>1</td>\n",
       "      <td>156</td>\n",
       "      <td>1</td>\n",
       "      <td>3</td>\n",
       "      <td>0</td>\n",
       "      <td>90</td>\n",
       "      <td>18</td>\n",
       "      <td>91</td>\n",
       "      <td>-1</td>\n",
       "      <td>98</td>\n",
       "      <td>2.757365</td>\n",
       "      <td>NaN</td>\n",
       "      <td>0.2</td>\n",
       "    </tr>\n",
       "    <tr>\n",
       "      <th>2397</th>\n",
       "      <td>15</td>\n",
       "      <td>1</td>\n",
       "      <td>158</td>\n",
       "      <td>5</td>\n",
       "      <td>4</td>\n",
       "      <td>1</td>\n",
       "      <td>136</td>\n",
       "      <td>149</td>\n",
       "      <td>127</td>\n",
       "      <td>9</td>\n",
       "      <td>82</td>\n",
       "      <td>2.387765</td>\n",
       "      <td>NaN</td>\n",
       "      <td>0.2</td>\n",
       "    </tr>\n",
       "    <tr>\n",
       "      <th>2398</th>\n",
       "      <td>15</td>\n",
       "      <td>1</td>\n",
       "      <td>159</td>\n",
       "      <td>2</td>\n",
       "      <td>2</td>\n",
       "      <td>-6</td>\n",
       "      <td>39</td>\n",
       "      <td>20</td>\n",
       "      <td>46</td>\n",
       "      <td>-7</td>\n",
       "      <td>86</td>\n",
       "      <td>1.181797</td>\n",
       "      <td>NaN</td>\n",
       "      <td>0.2</td>\n",
       "    </tr>\n",
       "    <tr>\n",
       "      <th>2399</th>\n",
       "      <td>15</td>\n",
       "      <td>1</td>\n",
       "      <td>160</td>\n",
       "      <td>3</td>\n",
       "      <td>4</td>\n",
       "      <td>-8</td>\n",
       "      <td>127</td>\n",
       "      <td>162</td>\n",
       "      <td>116</td>\n",
       "      <td>11</td>\n",
       "      <td>78</td>\n",
       "      <td>1.599905</td>\n",
       "      <td>NaN</td>\n",
       "      <td>0.2</td>\n",
       "    </tr>\n",
       "  </tbody>\n",
       "</table>\n",
       "<p>2319 rows × 14 columns</p>\n",
       "</div>"
      ],
      "text/plain": [
       "      subjID  run  trial  phase  oriRef  oriJitt  oriFinal  oriRespInit  \\\n",
       "0          1    1      1      9       2       -9        36           63   \n",
       "1          1    1      2      3       1       -9       171           85   \n",
       "2          1    1      3      4       2       -1        44           58   \n",
       "3          1    1      4      1       3        6        96           12   \n",
       "4          1    1      5      3       4        3       138           43   \n",
       "...      ...  ...    ...    ...     ...      ...       ...          ...   \n",
       "2394      15    1    155      7       3       -1        89           93   \n",
       "2395      15    1    156      1       3        0        90           18   \n",
       "2397      15    1    158      5       4        1       136          149   \n",
       "2398      15    1    159      2       2       -6        39           20   \n",
       "2399      15    1    160      3       4       -8       127          162   \n",
       "\n",
       "      oriRespFinal  error  points        rt  outoftime  iti  \n",
       "0               62    -26      48  2.609021        NaN  0.2  \n",
       "1              165      6      88  3.047162        NaN  0.2  \n",
       "2               53     -9      82  2.500657        NaN  0.2  \n",
       "3               99     -3      94  3.697208        NaN  0.2  \n",
       "4              143     -5      90  3.665645        NaN  0.2  \n",
       "...            ...    ...     ...       ...        ...  ...  \n",
       "2394            88      1      98  2.375790        NaN  0.2  \n",
       "2395            91     -1      98  2.757365        NaN  0.2  \n",
       "2397           127      9      82  2.387765        NaN  0.2  \n",
       "2398            46     -7      86  1.181797        NaN  0.2  \n",
       "2399           116     11      78  1.599905        NaN  0.2  \n",
       "\n",
       "[2319 rows x 14 columns]"
      ]
     },
     "execution_count": 7,
     "metadata": {},
     "output_type": "execute_result"
    }
   ],
   "source": [
    "# delete out of time trials\n",
    "flag = data['outoftime']!=1\n",
    "print(sum(flag))\n",
    "data_clean = data[flag]\n",
    "data_clean"
   ]
  },
  {
   "cell_type": "code",
   "execution_count": 8,
   "metadata": {},
   "outputs": [],
   "source": [
    "data_refs = {}\n",
    "data_refs['0'] = data_clean[data_clean['oriRef']==1 ]\n",
    "data_refs['45'] = data_clean[data_clean['oriRef']==2 ]\n",
    "data_refs['90'] = data_clean[data_clean['oriRef']==3 ]\n",
    "data_refs['135'] = data_clean[data_clean['oriRef']==4 ]"
   ]
  }
 ],
 "metadata": {
  "kernelspec": {
   "display_name": "dataSci",
   "language": "python",
   "name": "python3"
  },
  "language_info": {
   "codemirror_mode": {
    "name": "ipython",
    "version": 3
   },
   "file_extension": ".py",
   "mimetype": "text/x-python",
   "name": "python",
   "nbconvert_exporter": "python",
   "pygments_lexer": "ipython3",
   "version": "3.10.9"
  },
  "orig_nbformat": 4
 },
 "nbformat": 4,
 "nbformat_minor": 2
}
