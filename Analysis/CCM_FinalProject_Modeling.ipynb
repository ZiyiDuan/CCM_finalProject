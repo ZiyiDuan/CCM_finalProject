{
 "cells": [
  {
   "cell_type": "markdown",
   "id": "3266675e",
   "metadata": {},
   "source": [
    "# CCM Final Project\n",
    "#### Baysian Modeling of Orientation WM prior"
   ]
  },
  {
   "cell_type": "markdown",
   "id": "1ae2a75d",
   "metadata": {},
   "source": [
    "### Content\n",
    "1. Load and Sort data\n",
    "2. Prior Model Simulate\n",
    "3. Fit Prior Model\n",
    "4. Validation of Prior Model (Recover the params from the simulated data)"
   ]
  },
  {
   "cell_type": "markdown",
   "id": "f98ed3c4",
   "metadata": {},
   "source": [
    "### 1. Load and Sort Data"
   ]
  },
  {
   "cell_type": "code",
   "execution_count": 45,
   "id": "25ee6a2f",
   "metadata": {},
   "outputs": [],
   "source": [
    "import os\n",
    "import pandas as pd\n",
    "import numpy as np\n",
    "import matplotlib.pyplot as plt\n",
    "from scipy.stats import norm"
   ]
  },
  {
   "cell_type": "code",
   "execution_count": 2,
   "id": "611640c3",
   "metadata": {},
   "outputs": [
    {
     "data": {
      "text/plain": [
       "['CCM_finalProject', 'data_beh.csv', 'data_beh.xlsx']"
      ]
     },
     "execution_count": 2,
     "metadata": {},
     "output_type": "execute_result"
    }
   ],
   "source": [
    "curr_dif = os.getcwd()\n",
    "data_dir = os.path.abspath(os.path.join(curr_dif, '..\\\\..\\\\'))\n",
    "os.listdir(data_dir)"
   ]
  },
  {
   "cell_type": "code",
   "execution_count": 4,
   "id": "49eb9b23",
   "metadata": {},
   "outputs": [
    {
     "name": "stdout",
     "output_type": "stream",
     "text": [
      "   subjID  run  trial  phase  oriRef  oriJitt  oriFinal  oriRespInit  \\\n",
      "0       1    1      1      9       2       -9        36           63   \n",
      "1       1    1      2      3       1       -9       171           85   \n",
      "2       1    1      3      4       2       -1        44           58   \n",
      "3       1    1      4      1       3        6        96           12   \n",
      "4       1    1      5      3       4        3       138           43   \n",
      "\n",
      "   oriRespFinal  error  points        rt  outoftime  iti  \n",
      "0            62    -26      48  2.609021        NaN  0.2  \n",
      "1           165      6      88  3.047162        NaN  0.2  \n",
      "2            53     -9      82  2.500657        NaN  0.2  \n",
      "3            99     -3      94  3.697208        NaN  0.2  \n",
      "4           143     -5      90  3.665645        NaN  0.2  \n"
     ]
    }
   ],
   "source": [
    "data_path = os.path.join(data_dir,'data_beh.csv')\n",
    "data = pd.read_csv(data_path,sep=',')\n",
    "\n",
    "print(data.head())"
   ]
  },
  {
   "cell_type": "code",
   "execution_count": 15,
   "id": "08c9d2b7",
   "metadata": {},
   "outputs": [
    {
     "name": "stdout",
     "output_type": "stream",
     "text": [
      "2319\n"
     ]
    },
    {
     "data": {
      "text/html": [
       "<div>\n",
       "<style scoped>\n",
       "    .dataframe tbody tr th:only-of-type {\n",
       "        vertical-align: middle;\n",
       "    }\n",
       "\n",
       "    .dataframe tbody tr th {\n",
       "        vertical-align: top;\n",
       "    }\n",
       "\n",
       "    .dataframe thead th {\n",
       "        text-align: right;\n",
       "    }\n",
       "</style>\n",
       "<table border=\"1\" class=\"dataframe\">\n",
       "  <thead>\n",
       "    <tr style=\"text-align: right;\">\n",
       "      <th></th>\n",
       "      <th>subjID</th>\n",
       "      <th>run</th>\n",
       "      <th>trial</th>\n",
       "      <th>phase</th>\n",
       "      <th>oriRef</th>\n",
       "      <th>oriJitt</th>\n",
       "      <th>oriFinal</th>\n",
       "      <th>oriRespInit</th>\n",
       "      <th>oriRespFinal</th>\n",
       "      <th>error</th>\n",
       "      <th>points</th>\n",
       "      <th>rt</th>\n",
       "      <th>outoftime</th>\n",
       "      <th>iti</th>\n",
       "    </tr>\n",
       "  </thead>\n",
       "  <tbody>\n",
       "    <tr>\n",
       "      <th>0</th>\n",
       "      <td>1</td>\n",
       "      <td>1</td>\n",
       "      <td>1</td>\n",
       "      <td>9</td>\n",
       "      <td>2</td>\n",
       "      <td>-9</td>\n",
       "      <td>36</td>\n",
       "      <td>63</td>\n",
       "      <td>62</td>\n",
       "      <td>-26</td>\n",
       "      <td>48</td>\n",
       "      <td>2.609021</td>\n",
       "      <td>NaN</td>\n",
       "      <td>0.2</td>\n",
       "    </tr>\n",
       "    <tr>\n",
       "      <th>1</th>\n",
       "      <td>1</td>\n",
       "      <td>1</td>\n",
       "      <td>2</td>\n",
       "      <td>3</td>\n",
       "      <td>1</td>\n",
       "      <td>-9</td>\n",
       "      <td>171</td>\n",
       "      <td>85</td>\n",
       "      <td>165</td>\n",
       "      <td>6</td>\n",
       "      <td>88</td>\n",
       "      <td>3.047162</td>\n",
       "      <td>NaN</td>\n",
       "      <td>0.2</td>\n",
       "    </tr>\n",
       "    <tr>\n",
       "      <th>2</th>\n",
       "      <td>1</td>\n",
       "      <td>1</td>\n",
       "      <td>3</td>\n",
       "      <td>4</td>\n",
       "      <td>2</td>\n",
       "      <td>-1</td>\n",
       "      <td>44</td>\n",
       "      <td>58</td>\n",
       "      <td>53</td>\n",
       "      <td>-9</td>\n",
       "      <td>82</td>\n",
       "      <td>2.500657</td>\n",
       "      <td>NaN</td>\n",
       "      <td>0.2</td>\n",
       "    </tr>\n",
       "    <tr>\n",
       "      <th>3</th>\n",
       "      <td>1</td>\n",
       "      <td>1</td>\n",
       "      <td>4</td>\n",
       "      <td>1</td>\n",
       "      <td>3</td>\n",
       "      <td>6</td>\n",
       "      <td>96</td>\n",
       "      <td>12</td>\n",
       "      <td>99</td>\n",
       "      <td>-3</td>\n",
       "      <td>94</td>\n",
       "      <td>3.697208</td>\n",
       "      <td>NaN</td>\n",
       "      <td>0.2</td>\n",
       "    </tr>\n",
       "    <tr>\n",
       "      <th>4</th>\n",
       "      <td>1</td>\n",
       "      <td>1</td>\n",
       "      <td>5</td>\n",
       "      <td>3</td>\n",
       "      <td>4</td>\n",
       "      <td>3</td>\n",
       "      <td>138</td>\n",
       "      <td>43</td>\n",
       "      <td>143</td>\n",
       "      <td>-5</td>\n",
       "      <td>90</td>\n",
       "      <td>3.665645</td>\n",
       "      <td>NaN</td>\n",
       "      <td>0.2</td>\n",
       "    </tr>\n",
       "    <tr>\n",
       "      <th>...</th>\n",
       "      <td>...</td>\n",
       "      <td>...</td>\n",
       "      <td>...</td>\n",
       "      <td>...</td>\n",
       "      <td>...</td>\n",
       "      <td>...</td>\n",
       "      <td>...</td>\n",
       "      <td>...</td>\n",
       "      <td>...</td>\n",
       "      <td>...</td>\n",
       "      <td>...</td>\n",
       "      <td>...</td>\n",
       "      <td>...</td>\n",
       "      <td>...</td>\n",
       "    </tr>\n",
       "    <tr>\n",
       "      <th>2394</th>\n",
       "      <td>15</td>\n",
       "      <td>1</td>\n",
       "      <td>155</td>\n",
       "      <td>7</td>\n",
       "      <td>3</td>\n",
       "      <td>-1</td>\n",
       "      <td>89</td>\n",
       "      <td>93</td>\n",
       "      <td>88</td>\n",
       "      <td>1</td>\n",
       "      <td>98</td>\n",
       "      <td>2.375790</td>\n",
       "      <td>NaN</td>\n",
       "      <td>0.2</td>\n",
       "    </tr>\n",
       "    <tr>\n",
       "      <th>2395</th>\n",
       "      <td>15</td>\n",
       "      <td>1</td>\n",
       "      <td>156</td>\n",
       "      <td>1</td>\n",
       "      <td>3</td>\n",
       "      <td>0</td>\n",
       "      <td>90</td>\n",
       "      <td>18</td>\n",
       "      <td>91</td>\n",
       "      <td>-1</td>\n",
       "      <td>98</td>\n",
       "      <td>2.757365</td>\n",
       "      <td>NaN</td>\n",
       "      <td>0.2</td>\n",
       "    </tr>\n",
       "    <tr>\n",
       "      <th>2397</th>\n",
       "      <td>15</td>\n",
       "      <td>1</td>\n",
       "      <td>158</td>\n",
       "      <td>5</td>\n",
       "      <td>4</td>\n",
       "      <td>1</td>\n",
       "      <td>136</td>\n",
       "      <td>149</td>\n",
       "      <td>127</td>\n",
       "      <td>9</td>\n",
       "      <td>82</td>\n",
       "      <td>2.387765</td>\n",
       "      <td>NaN</td>\n",
       "      <td>0.2</td>\n",
       "    </tr>\n",
       "    <tr>\n",
       "      <th>2398</th>\n",
       "      <td>15</td>\n",
       "      <td>1</td>\n",
       "      <td>159</td>\n",
       "      <td>2</td>\n",
       "      <td>2</td>\n",
       "      <td>-6</td>\n",
       "      <td>39</td>\n",
       "      <td>20</td>\n",
       "      <td>46</td>\n",
       "      <td>-7</td>\n",
       "      <td>86</td>\n",
       "      <td>1.181796</td>\n",
       "      <td>NaN</td>\n",
       "      <td>0.2</td>\n",
       "    </tr>\n",
       "    <tr>\n",
       "      <th>2399</th>\n",
       "      <td>15</td>\n",
       "      <td>1</td>\n",
       "      <td>160</td>\n",
       "      <td>3</td>\n",
       "      <td>4</td>\n",
       "      <td>-8</td>\n",
       "      <td>127</td>\n",
       "      <td>162</td>\n",
       "      <td>116</td>\n",
       "      <td>11</td>\n",
       "      <td>78</td>\n",
       "      <td>1.599905</td>\n",
       "      <td>NaN</td>\n",
       "      <td>0.2</td>\n",
       "    </tr>\n",
       "  </tbody>\n",
       "</table>\n",
       "<p>2319 rows × 14 columns</p>\n",
       "</div>"
      ],
      "text/plain": [
       "      subjID  run  trial  phase  oriRef  oriJitt  oriFinal  oriRespInit  \\\n",
       "0          1    1      1      9       2       -9        36           63   \n",
       "1          1    1      2      3       1       -9       171           85   \n",
       "2          1    1      3      4       2       -1        44           58   \n",
       "3          1    1      4      1       3        6        96           12   \n",
       "4          1    1      5      3       4        3       138           43   \n",
       "...      ...  ...    ...    ...     ...      ...       ...          ...   \n",
       "2394      15    1    155      7       3       -1        89           93   \n",
       "2395      15    1    156      1       3        0        90           18   \n",
       "2397      15    1    158      5       4        1       136          149   \n",
       "2398      15    1    159      2       2       -6        39           20   \n",
       "2399      15    1    160      3       4       -8       127          162   \n",
       "\n",
       "      oriRespFinal  error  points        rt  outoftime  iti  \n",
       "0               62    -26      48  2.609021        NaN  0.2  \n",
       "1              165      6      88  3.047162        NaN  0.2  \n",
       "2               53     -9      82  2.500657        NaN  0.2  \n",
       "3               99     -3      94  3.697208        NaN  0.2  \n",
       "4              143     -5      90  3.665645        NaN  0.2  \n",
       "...            ...    ...     ...       ...        ...  ...  \n",
       "2394            88      1      98  2.375790        NaN  0.2  \n",
       "2395            91     -1      98  2.757365        NaN  0.2  \n",
       "2397           127      9      82  2.387765        NaN  0.2  \n",
       "2398            46     -7      86  1.181796        NaN  0.2  \n",
       "2399           116     11      78  1.599905        NaN  0.2  \n",
       "\n",
       "[2319 rows x 14 columns]"
      ]
     },
     "execution_count": 15,
     "metadata": {},
     "output_type": "execute_result"
    }
   ],
   "source": [
    "data_df = pd.DataFrame(data)\n",
    "flag = data_df['outoftime']!=1\n",
    "print(sum(flag))\n",
    "data_clean = data_df[flag]\n",
    "data_clean"
   ]
  },
  {
   "cell_type": "code",
   "execution_count": 17,
   "id": "51b92793",
   "metadata": {},
   "outputs": [],
   "source": [
    "data_ref1 = data_clean[data_clean['oriRef']==1 ]\n",
    "data_ref2 = data_clean[data_clean['oriRef']==2 ]\n",
    "data_ref3 = data_clean[data_clean['oriRef']==3 ]\n",
    "data_ref4 = data_clean[data_clean['oriRef']==4 ]\n",
    "\n",
    "#flip_flag = data_ref1['oriFinal'>=170]\n",
    "#data_ref1['oriFinal'] = data_ref1[flip_flag,['oriFinal']]-180"
   ]
  },
  {
   "cell_type": "code",
   "execution_count": 18,
   "id": "a6bd5567",
   "metadata": {},
   "outputs": [
    {
     "data": {
      "text/html": [
       "<div>\n",
       "<style scoped>\n",
       "    .dataframe tbody tr th:only-of-type {\n",
       "        vertical-align: middle;\n",
       "    }\n",
       "\n",
       "    .dataframe tbody tr th {\n",
       "        vertical-align: top;\n",
       "    }\n",
       "\n",
       "    .dataframe thead th {\n",
       "        text-align: right;\n",
       "    }\n",
       "</style>\n",
       "<table border=\"1\" class=\"dataframe\">\n",
       "  <thead>\n",
       "    <tr style=\"text-align: right;\">\n",
       "      <th></th>\n",
       "      <th>subjID</th>\n",
       "      <th>run</th>\n",
       "      <th>trial</th>\n",
       "      <th>phase</th>\n",
       "      <th>oriRef</th>\n",
       "      <th>oriJitt</th>\n",
       "      <th>oriFinal</th>\n",
       "      <th>oriRespInit</th>\n",
       "      <th>oriRespFinal</th>\n",
       "      <th>error</th>\n",
       "      <th>points</th>\n",
       "      <th>rt</th>\n",
       "      <th>outoftime</th>\n",
       "      <th>iti</th>\n",
       "    </tr>\n",
       "  </thead>\n",
       "  <tbody>\n",
       "    <tr>\n",
       "      <th>0</th>\n",
       "      <td>1</td>\n",
       "      <td>1</td>\n",
       "      <td>1</td>\n",
       "      <td>9</td>\n",
       "      <td>2</td>\n",
       "      <td>-9</td>\n",
       "      <td>36</td>\n",
       "      <td>63</td>\n",
       "      <td>62</td>\n",
       "      <td>-26</td>\n",
       "      <td>48</td>\n",
       "      <td>2.609021</td>\n",
       "      <td>NaN</td>\n",
       "      <td>0.2</td>\n",
       "    </tr>\n",
       "    <tr>\n",
       "      <th>2</th>\n",
       "      <td>1</td>\n",
       "      <td>1</td>\n",
       "      <td>3</td>\n",
       "      <td>4</td>\n",
       "      <td>2</td>\n",
       "      <td>-1</td>\n",
       "      <td>44</td>\n",
       "      <td>58</td>\n",
       "      <td>53</td>\n",
       "      <td>-9</td>\n",
       "      <td>82</td>\n",
       "      <td>2.500657</td>\n",
       "      <td>NaN</td>\n",
       "      <td>0.2</td>\n",
       "    </tr>\n",
       "    <tr>\n",
       "      <th>8</th>\n",
       "      <td>1</td>\n",
       "      <td>1</td>\n",
       "      <td>9</td>\n",
       "      <td>1</td>\n",
       "      <td>2</td>\n",
       "      <td>8</td>\n",
       "      <td>53</td>\n",
       "      <td>112</td>\n",
       "      <td>57</td>\n",
       "      <td>-4</td>\n",
       "      <td>92</td>\n",
       "      <td>3.648202</td>\n",
       "      <td>NaN</td>\n",
       "      <td>0.2</td>\n",
       "    </tr>\n",
       "    <tr>\n",
       "      <th>10</th>\n",
       "      <td>1</td>\n",
       "      <td>1</td>\n",
       "      <td>11</td>\n",
       "      <td>9</td>\n",
       "      <td>2</td>\n",
       "      <td>7</td>\n",
       "      <td>52</td>\n",
       "      <td>80</td>\n",
       "      <td>69</td>\n",
       "      <td>-17</td>\n",
       "      <td>66</td>\n",
       "      <td>1.732261</td>\n",
       "      <td>NaN</td>\n",
       "      <td>0.2</td>\n",
       "    </tr>\n",
       "    <tr>\n",
       "      <th>11</th>\n",
       "      <td>1</td>\n",
       "      <td>1</td>\n",
       "      <td>12</td>\n",
       "      <td>2</td>\n",
       "      <td>2</td>\n",
       "      <td>-6</td>\n",
       "      <td>39</td>\n",
       "      <td>112</td>\n",
       "      <td>36</td>\n",
       "      <td>3</td>\n",
       "      <td>94</td>\n",
       "      <td>3.745060</td>\n",
       "      <td>NaN</td>\n",
       "      <td>0.2</td>\n",
       "    </tr>\n",
       "    <tr>\n",
       "      <th>...</th>\n",
       "      <td>...</td>\n",
       "      <td>...</td>\n",
       "      <td>...</td>\n",
       "      <td>...</td>\n",
       "      <td>...</td>\n",
       "      <td>...</td>\n",
       "      <td>...</td>\n",
       "      <td>...</td>\n",
       "      <td>...</td>\n",
       "      <td>...</td>\n",
       "      <td>...</td>\n",
       "      <td>...</td>\n",
       "      <td>...</td>\n",
       "      <td>...</td>\n",
       "    </tr>\n",
       "    <tr>\n",
       "      <th>2374</th>\n",
       "      <td>15</td>\n",
       "      <td>1</td>\n",
       "      <td>135</td>\n",
       "      <td>8</td>\n",
       "      <td>2</td>\n",
       "      <td>8</td>\n",
       "      <td>53</td>\n",
       "      <td>18</td>\n",
       "      <td>57</td>\n",
       "      <td>-4</td>\n",
       "      <td>92</td>\n",
       "      <td>1.345367</td>\n",
       "      <td>NaN</td>\n",
       "      <td>0.2</td>\n",
       "    </tr>\n",
       "    <tr>\n",
       "      <th>2379</th>\n",
       "      <td>15</td>\n",
       "      <td>1</td>\n",
       "      <td>140</td>\n",
       "      <td>4</td>\n",
       "      <td>2</td>\n",
       "      <td>1</td>\n",
       "      <td>46</td>\n",
       "      <td>176</td>\n",
       "      <td>48</td>\n",
       "      <td>-2</td>\n",
       "      <td>96</td>\n",
       "      <td>1.399973</td>\n",
       "      <td>NaN</td>\n",
       "      <td>0.2</td>\n",
       "    </tr>\n",
       "    <tr>\n",
       "      <th>2380</th>\n",
       "      <td>15</td>\n",
       "      <td>1</td>\n",
       "      <td>141</td>\n",
       "      <td>2</td>\n",
       "      <td>2</td>\n",
       "      <td>3</td>\n",
       "      <td>48</td>\n",
       "      <td>87</td>\n",
       "      <td>48</td>\n",
       "      <td>0</td>\n",
       "      <td>100</td>\n",
       "      <td>1.466586</td>\n",
       "      <td>NaN</td>\n",
       "      <td>0.2</td>\n",
       "    </tr>\n",
       "    <tr>\n",
       "      <th>2385</th>\n",
       "      <td>15</td>\n",
       "      <td>1</td>\n",
       "      <td>146</td>\n",
       "      <td>6</td>\n",
       "      <td>2</td>\n",
       "      <td>-6</td>\n",
       "      <td>39</td>\n",
       "      <td>147</td>\n",
       "      <td>29</td>\n",
       "      <td>10</td>\n",
       "      <td>80</td>\n",
       "      <td>1.799879</td>\n",
       "      <td>NaN</td>\n",
       "      <td>0.2</td>\n",
       "    </tr>\n",
       "    <tr>\n",
       "      <th>2398</th>\n",
       "      <td>15</td>\n",
       "      <td>1</td>\n",
       "      <td>159</td>\n",
       "      <td>2</td>\n",
       "      <td>2</td>\n",
       "      <td>-6</td>\n",
       "      <td>39</td>\n",
       "      <td>20</td>\n",
       "      <td>46</td>\n",
       "      <td>-7</td>\n",
       "      <td>86</td>\n",
       "      <td>1.181796</td>\n",
       "      <td>NaN</td>\n",
       "      <td>0.2</td>\n",
       "    </tr>\n",
       "  </tbody>\n",
       "</table>\n",
       "<p>582 rows × 14 columns</p>\n",
       "</div>"
      ],
      "text/plain": [
       "      subjID  run  trial  phase  oriRef  oriJitt  oriFinal  oriRespInit  \\\n",
       "0          1    1      1      9       2       -9        36           63   \n",
       "2          1    1      3      4       2       -1        44           58   \n",
       "8          1    1      9      1       2        8        53          112   \n",
       "10         1    1     11      9       2        7        52           80   \n",
       "11         1    1     12      2       2       -6        39          112   \n",
       "...      ...  ...    ...    ...     ...      ...       ...          ...   \n",
       "2374      15    1    135      8       2        8        53           18   \n",
       "2379      15    1    140      4       2        1        46          176   \n",
       "2380      15    1    141      2       2        3        48           87   \n",
       "2385      15    1    146      6       2       -6        39          147   \n",
       "2398      15    1    159      2       2       -6        39           20   \n",
       "\n",
       "      oriRespFinal  error  points        rt  outoftime  iti  \n",
       "0               62    -26      48  2.609021        NaN  0.2  \n",
       "2               53     -9      82  2.500657        NaN  0.2  \n",
       "8               57     -4      92  3.648202        NaN  0.2  \n",
       "10              69    -17      66  1.732261        NaN  0.2  \n",
       "11              36      3      94  3.745060        NaN  0.2  \n",
       "...            ...    ...     ...       ...        ...  ...  \n",
       "2374            57     -4      92  1.345367        NaN  0.2  \n",
       "2379            48     -2      96  1.399973        NaN  0.2  \n",
       "2380            48      0     100  1.466586        NaN  0.2  \n",
       "2385            29     10      80  1.799879        NaN  0.2  \n",
       "2398            46     -7      86  1.181796        NaN  0.2  \n",
       "\n",
       "[582 rows x 14 columns]"
      ]
     },
     "execution_count": 18,
     "metadata": {},
     "output_type": "execute_result"
    }
   ],
   "source": [
    "data_ref2"
   ]
  },
  {
   "cell_type": "markdown",
   "id": "f3bff610",
   "metadata": {},
   "source": [
    "### Prior Model Simulate"
   ]
  },
  {
   "cell_type": "code",
   "execution_count": 348,
   "id": "9d3ac598",
   "metadata": {},
   "outputs": [],
   "source": [
    "data_subj=data_ref2[data_ref2['subjID']==1]\n",
    "\n",
    "targ_loc = np.array(subject_data['oriFinal'])\n",
    "real_response = np.array(subject_data['oriRespFinal'])"
   ]
  },
  {
   "cell_type": "code",
   "execution_count": 355,
   "id": "959ba7c6",
   "metadata": {},
   "outputs": [],
   "source": [
    "def prior_simulate_data(targ_loc,prior_mu,prior_std,likelihood_std):\n",
    "    posterior = [];\n",
    "    answers = [];\n",
    "    xs = np.linspace(-90, 90, 361)\n",
    "    for i in range(targ_loc.shape[0]):\n",
    "        representation = norm.pdf(xs, loc=targ_loc[i], scale=likelihood_std)\n",
    "        prior = norm.pdf(xs, loc=prior_mu, scale=prior_std)\n",
    "        post = representation * prior\n",
    "        post = post/sum(post) # normalize\n",
    "        \n",
    "        random_answer = np.random.choice(xs,p = post)\n",
    "        answers.append(random_answer)\n",
    "        posterior.append(post[round(random_answer)])\n",
    "        #errors = answers-targ_loc\n",
    "    return answers,posterior"
   ]
  },
  {
   "cell_type": "code",
   "execution_count": 356,
   "id": "27d9ebb4",
   "metadata": {},
   "outputs": [
    {
     "name": "stdout",
     "output_type": "stream",
     "text": [
      "[43.0, 43.5, 52.0, 60.0, 36.5, 54.5, 61.5, 50.5, 65.5, 30.5, 53.5, 15.0, 72.0, 46.0, 58.0, 82.5, 79.0, 51.5, 38.5, 39.0, 53.0, 52.5, 49.0, 73.5, 46.5, 41.0, 47.0, 48.5, 59.5, 55.0, 35.0, 37.5, 23.0, 50.5, 57.0, 40.0, 50.0, 16.0, 37.5]\n"
     ]
    }
   ],
   "source": [
    "# let's try to simulate a fake subj when refence is 2\n",
    "\n",
    "prior_mu = 45\n",
    "prior_std = 25\n",
    "\n",
    "likelihood_std = 15\n",
    "\n",
    "answers,posterior = prior_simulate_data(targ_loc,prior_mu,prior_std,likelihood_std)\n",
    "print(answers)"
   ]
  },
  {
   "cell_type": "code",
   "execution_count": 352,
   "id": "abe431a9",
   "metadata": {},
   "outputs": [
    {
     "data": {
      "image/png": "[encoded data removed]",
      "text/plain": [
       "<Figure size 800x800 with 3 Axes>"
      ]
     },
     "metadata": {},
     "output_type": "display_data"
    }
   ],
   "source": [
    "# Plot the target location histogram\n",
    "\n",
    "# Define the bin sizes\n",
    "bin_targ = 4\n",
    "\n",
    "# Create the figure and subplots\n",
    "fig, axs = plt.subplots(3, 1, figsize=(8, 8))\n",
    "\n",
    "# Plot the target location histogram\n",
    "axs[0].hist(targ_loc, bins=np.arange(0, 90 + bin_targ, bin_targ))\n",
    "axs[0].set_title('Target Location')\n",
    "\n",
    "# Plot the response location histogram\n",
    "axs[1].hist(answers, bins=np.arange(0, 90 + bin_targ, bin_targ))\n",
    "axs[1].set_title('Simulated Response')\n",
    "\n",
    "# Plot the response error histogram\n",
    "axs[2].hist(real_response, bins=np.arange(0, 90 + bin_targ, bin_targ))\n",
    "axs[2].set_title('Real Response')\n",
    "# Set the x-label with the parameters\n",
    "xtxt = f\"prior {prior_mu:.2f}, prior_std {prior_std:.2f}; \\nlikelihood_std {likelihood_std:.2f}.\"\n",
    "fig.text(0.5, 0.04, xtxt, ha='center')\n",
    "\n",
    "# Show the plot\n",
    "plt.show()"
   ]
  },
  {
   "cell_type": "markdown",
   "id": "b52d17d3",
   "metadata": {},
   "source": [
    "### 3.Fit Prior Model"
   ]
  },
  {
   "cell_type": "code",
   "execution_count": 282,
   "id": "bd982b1b",
   "metadata": {},
   "outputs": [],
   "source": [
    "\n",
    "def prior_cal_nll(targ_loc,true_answer, params):\n",
    "    ntrials = targ_loc.shape[0]\n",
    "    \n",
    "    xs = np.arange(-45, 135, 0.01)\n",
    "    prior_mu = params[0]\n",
    "    prior_std = params[1]\n",
    "    likelihood_std = params[2]\n",
    "    \n",
    "    # can create prior outside of the loop because doesn't change\n",
    "    prior = norm.pdf(xs, loc=prior_mu, scale=prior_std)\n",
    "    \n",
    "    prior = np.tile(prior[:, np.newaxis], (1, int(ntrials)))\n",
    "\n",
    "    # representation is also easy to do without a loop\n",
    "    representation = norm.pdf(xs.reshape(-1,1), loc=targ_loc, scale=likelihood_std)\n",
    "\n",
    "    post = representation * prior\n",
    "    post = post/np.sum(post, axis=1, keepdims=True)\n",
    "\n",
    "    # this is the true answer\n",
    "    xs_matrix = np.tile(xs, (ntrials,1))\n",
    "    \n",
    "    #true_answer = true_answer.values\n",
    "    \n",
    "    index = np.argmin(np.abs(xs_matrix - true_answer.reshape(-1,1)), axis=1) #find the closest one\n",
    "    \n",
    "    if len(index) != len(true_answer):\n",
    "        raise ValueError('the num of llh is not the number of trial')\n",
    "\n",
    "    col_post = post.flatten(order='F')\n",
    "    col_probs = col_post[index]\n",
    "    llh = np.sum(np.log(col_probs))\n",
    "    nLL = -llh \n",
    "\n",
    "    return nLL\n"
   ]
  },
  {
   "cell_type": "code",
   "execution_count": 372,
   "id": "f01239df",
   "metadata": {},
   "outputs": [
    {
     "name": "stdout",
     "output_type": "stream",
     "text": [
      "0\n"
     ]
    },
    {
     "name": "stderr",
     "output_type": "stream",
     "text": [
      "C:\\Users\\Administrator\\AppData\\Local\\Temp\\ipykernel_19148\\3691053948.py:18: RuntimeWarning: invalid value encountered in divide\n",
      "  post = post/np.sum(post, axis=1, keepdims=True)\n",
      "C:\\Users\\Administrator\\AppData\\Local\\Temp\\ipykernel_19148\\3691053948.py:32: RuntimeWarning: divide by zero encountered in log\n",
      "  llh = np.sum(np.log(col_probs))\n"
     ]
    },
    {
     "name": "stdout",
     "output_type": "stream",
     "text": [
      "1\n",
      "2\n",
      "3\n",
      "4\n",
      "5\n",
      "6\n",
      "7\n",
      "8\n",
      "9\n",
      "10\n",
      "11\n",
      "12\n",
      "13\n",
      "14\n"
     ]
    }
   ],
   "source": [
    "nparams = 3\n",
    "nsubjs = 15\n",
    "\n",
    "prior_std_range = np.arange(1, 30, 2)\n",
    "likelihood_std_range = np.arange(.1,10,.5);\n",
    "\n",
    "\n",
    "allfits = np.empty((niters, nparams))\n",
    "nLL_total = np.empty((len(prior_std_range),len(likelihood_std_range)))\n",
    "prior_std_fit = np.empty((nsubjs))\n",
    "likelihood_std_fit = np.empty((nsubjs))\n",
    "the_nLL = np.empty((nsubjs))\n",
    "\n",
    "for subj in range(nsubjs):\n",
    "    subject_data =  pd.DataFrame(data_ref2[data_ref2['subjID']==subj+1])\n",
    "        \n",
    "    targ_loc = np.array(subject_data['oriFinal'])\n",
    "    true_answer = np.array(subject_data['oriRespFinal'])\n",
    "    print(subj)\n",
    "    for prior_idx in range(len(prior_std_range)):\n",
    "        for likelihood_idx in range(len(likelihood_std_range)):\n",
    "            # remember to change the 45 into other prior mu based on the data set u r using\n",
    "            nll=prior_cal_nll(targ_loc,true_answer,[45, prior_std_range[prior_idx],likelihood_std_range[likelihood_idx]])\n",
    "            \n",
    "            nLL_total[prior_idx,likelihood_idx] = nll\n",
    "    \n",
    "    the_nLL = np.min(nLL_total) # final fitted nll\n",
    "    I = np.nanargmin(nLL_total)\n",
    "\n",
    "    j_idx = np.ceil(I / len(prior_std_range)).astype(int)-1\n",
    "    i_idx = I - (j_idx) * len(prior_std_range) - 1\n",
    "\n",
    "    prior_std_fit[subj] = prior_std_range[i_idx] # final fitted prior std\n",
    "    likelihood_std_fit[subj] = likelihood_std_range[j_idx] # final fitted likelihood std"
   ]
  },
  {
   "cell_type": "code",
   "execution_count": 373,
   "id": "7b5c7bd6",
   "metadata": {},
   "outputs": [
    {
     "data": {
      "text/plain": [
       "array([ 7.,  7.,  7.,  7.,  7.,  7., 17., 17.,  7.,  7.,  7.,  7., 17.,\n",
       "       17.,  7.])"
      ]
     },
     "execution_count": 373,
     "metadata": {},
     "output_type": "execute_result"
    }
   ],
   "source": [
    "prior_std_fit"
   ]
  },
  {
   "cell_type": "code",
   "execution_count": 374,
   "id": "e4fc0903",
   "metadata": {},
   "outputs": [
    {
     "data": {
      "text/plain": [
       "array([0.6, 0.6, 0.6, 4.6, 0.6, 0.6, 1.1, 1.1, 0.6, 0.6, 0.6, 2.6, 1.1,\n",
       "       1.1, 0.6])"
      ]
     },
     "execution_count": 374,
     "metadata": {},
     "output_type": "execute_result"
    }
   ],
   "source": [
    "likelihood_std_fit"
   ]
  },
  {
   "cell_type": "code",
   "execution_count": 375,
   "id": "bf5cc813",
   "metadata": {},
   "outputs": [
    {
     "data": {
      "image/png": "[encoded data removed]",
      "text/plain": [
       "<Figure size 640x480 with 1 Axes>"
      ]
     },
     "metadata": {},
     "output_type": "display_data"
    },
    {
     "data": {
      "image/png": "[encoded data removed]",
      "text/plain": [
       "<Figure size 640x480 with 1 Axes>"
      ]
     },
     "metadata": {},
     "output_type": "display_data"
    }
   ],
   "source": [
    "import matplotlib.pyplot as plt\n",
    "\n",
    "# create boxplot for prior_std_fit\n",
    "fig1, ax1 = plt.subplots()\n",
    "ax1.boxplot(prior_std_fit)\n",
    "ax1.set_title('Boxplot of Prior Std Fit')\n",
    "ax1.set_ylabel('Value')\n",
    "\n",
    "# create boxplot for likelihood_std_fit\n",
    "fig2, ax2 = plt.subplots()\n",
    "ax2.boxplot(likelihood_std_fit)\n",
    "ax2.set_title('Boxplot of Likelihood Std Fit')\n",
    "ax2.set_ylabel('Value')\n",
    "\n",
    "plt.show()\n"
   ]
  },
  {
   "cell_type": "markdown",
   "id": "33a7aa8b",
   "metadata": {},
   "source": [
    "#### It's not working now (fmin)\n",
    "#### I tried to use fmin but the targ_loc i pass in was 40 by 1 after pass in it became 3 by 1 werid."
   ]
  },
  {
   "cell_type": "code",
   "execution_count": null,
   "id": "b9caff62",
   "metadata": {},
   "outputs": [],
   "source": [
    "from scipy.optimize import fmin\n",
    "\n",
    "options = {'ftol': 1e-8, 'disp': False}\n",
    "nparams = 3\n",
    "pmin = np.ones(nparams) * 1\n",
    "pmax = np.ones(nparams) * 50\n",
    "nsubjs = 15\n",
    "niters = 1\n",
    "allfits = np.empty((niters, nparams))\n",
    "nll = np.empty((niters, 1))\n",
    "best_params = np.empty((nsubjs, nparams))\n",
    "min_nll = np.empty((nsubjs, 1))\n",
    "\n",
    "for subj in range(nsubjs):\n",
    "    subject_data =  pd.DataFrame(data_ref2[data_ref2['subjID']==subj+1])\n",
    "    targ_loc = np.array(subject_data['oriFinal'])\n",
    "    true_answer = np.array(subject_data['oriRespFinal'])\n",
    "    \n",
    "    print(targ_loc)\n",
    "    \n",
    "    init = np.random.uniform(pmin, pmax, nparams)\n",
    "    # randomly initialize the starting point\n",
    "    \n",
    "    #nll=prior_cal_nll(subject_data, init)    \n",
    "    #print(nll)\n",
    "    allfits[iter, :], nll[iter] = fmin(prior_cal_nll, init, args=([targ_loc],[true_answer],), maxiter=500, full_output=True, disp=False)\n",
    "    # returns the best fit parameters and their values\n",
    "    \n",
    "    # do all of that niters times, then pick the best ones\n",
    "    idx = np.argmin(nll)\n",
    "    min_nll[subj, :] = nll[idx]\n",
    "    best_params[subj, :] = allfits[idx, :]\n",
    "    #print(min_nll[subj,:])\n",
    "    #print(best_params[subj,:])\n"
   ]
  },
  {
   "cell_type": "markdown",
   "id": "2f57499b",
   "metadata": {},
   "source": [
    "### 4. Validation of Prior Model (Recover the params from the simulated data)"
   ]
  },
  {
   "cell_type": "code",
   "execution_count": 384,
   "id": "40402966",
   "metadata": {},
   "outputs": [
    {
     "name": "stdout",
     "output_type": "stream",
     "text": [
      "0\n"
     ]
    },
    {
     "name": "stderr",
     "output_type": "stream",
     "text": [
      "C:\\Users\\Administrator\\AppData\\Local\\Temp\\ipykernel_19148\\3691053948.py:18: RuntimeWarning: invalid value encountered in divide\n",
      "  post = post/np.sum(post, axis=1, keepdims=True)\n",
      "C:\\Users\\Administrator\\AppData\\Local\\Temp\\ipykernel_19148\\3691053948.py:32: RuntimeWarning: divide by zero encountered in log\n",
      "  llh = np.sum(np.log(col_probs))\n"
     ]
    },
    {
     "name": "stdout",
     "output_type": "stream",
     "text": [
      "1\n",
      "2\n",
      "3\n",
      "4\n",
      "5\n",
      "6\n",
      "7\n",
      "8\n",
      "9\n",
      "10\n",
      "11\n",
      "12\n",
      "13\n",
      "14\n"
     ]
    }
   ],
   "source": [
    "prior_std_range = np.arange(1, 30, 2)\n",
    "likelihood_std_range = np.arange(.1,10,.5);\n",
    "\n",
    "allfits = np.empty((niters, nparams))\n",
    "nLL_retotal = np.empty((len(prior_std_range),len(likelihood_std_range)))\n",
    "prior_std_refit = np.empty((nsubjs))\n",
    "likelihood_std_refit = np.empty((nsubjs))\n",
    "the_renLL = np.empty((nsubjs))\n",
    "\n",
    "for subj in range(nsubjs):\n",
    "    subject_data =  pd.DataFrame(data_ref2[data_ref2['subjID']==subj+1])\n",
    "        \n",
    "    targ_loc = np.array(subject_data['oriFinal'])\n",
    "    true_answer = np.array(subject_data['oriRespFinal'])\n",
    "    print(subj)\n",
    "    \n",
    "    prior_mu = 45\n",
    "    prior_std = prior_std_fit[subj]\n",
    "\n",
    "    likelihood_std = likelihood_std_fit[subj]\n",
    "\n",
    "    simu_answers,posterior = prior_simulate_data(targ_loc,prior_mu,prior_std,likelihood_std)\n",
    "    simu_answers = np.array(simu_answers)\n",
    "    \n",
    "    for prior_idx in range(len(prior_std_range)):\n",
    "        for likelihood_idx in range(len(likelihood_std_range)):\n",
    "            # remember to change the 45 into other prior mu based on the data set u r using\n",
    "            nll=prior_cal_nll(targ_loc,simu_answers,[45, prior_std_range[prior_idx],likelihood_std_range[likelihood_idx]])\n",
    "            \n",
    "            nLL_retotal[prior_idx,likelihood_idx] = nll\n",
    "    \n",
    "    the_renLL[subj] = np.min(nLL_retotal) # final fitted nll\n",
    "    I = np.nanargmin(nLL_retotal)\n",
    "\n",
    "    j_idx = np.ceil(I / len(prior_std_range)).astype(int)-1\n",
    "    i_idx = I - (j_idx) * len(prior_std_range) - 1\n",
    "\n",
    "    prior_std_refit[subj] = prior_std_range[i_idx]  # refitted prior std\n",
    "    likelihood_std_refit[subj] = likelihood_std_range[j_idx] # refitted likelihood std"
   ]
  },
  {
   "cell_type": "code",
   "execution_count": 385,
   "id": "293e0fc7",
   "metadata": {},
   "outputs": [
    {
     "name": "stdout",
     "output_type": "stream",
     "text": [
      "[0.6879474780552982, 0.08537792937171511, 0.004236147413513745]\n"
     ]
    }
   ],
   "source": [
    "correlation_data = np.corrcoef(true_answer, simu_answers)[0,1]\n",
    "correlation_likelihood = np.corrcoef(likelihood_std_refit, likelihood_std_fit)[0,1]\n",
    "correlation_prior = np.corrcoef(prior_std_fit, prior_std_refit)[0,1]\n",
    "\n",
    "print([correlation_data, correlation_likelihood, correlation_prior])\n"
   ]
  },
  {
   "cell_type": "code",
   "execution_count": 386,
   "id": "90fbb11c",
   "metadata": {},
   "outputs": [
    {
     "data": {
      "text/plain": [
       "array([0.6, 0.6, 0.6, 1.6, 0.6, 0.6, 0.6, 0.6, 0.6, 0.1, 0.6, 0.1, 0.1,\n",
       "       8.6, 0.6])"
      ]
     },
     "execution_count": 386,
     "metadata": {},
     "output_type": "execute_result"
    }
   ],
   "source": [
    "likelihood_std_refit"
   ]
  },
  {
   "cell_type": "code",
   "execution_count": 387,
   "id": "1e90fbd2",
   "metadata": {},
   "outputs": [
    {
     "data": {
      "text/plain": [
       "array([0.6, 0.6, 0.6, 4.6, 0.6, 0.6, 1.1, 1.1, 0.6, 0.6, 0.6, 2.6, 1.1,\n",
       "       1.1, 0.6])"
      ]
     },
     "execution_count": 387,
     "metadata": {},
     "output_type": "execute_result"
    }
   ],
   "source": [
    "likelihood_std_fit"
   ]
  },
  {
   "cell_type": "code",
   "execution_count": 388,
   "id": "e5b59f00",
   "metadata": {},
   "outputs": [
    {
     "data": {
      "text/plain": [
       "array([ 7.,  3.,  7., 27.,  3.,  7.,  7.,  7.,  7., 29.,  7., 27., 27.,\n",
       "        7.,  7.])"
      ]
     },
     "execution_count": 388,
     "metadata": {},
     "output_type": "execute_result"
    }
   ],
   "source": [
    "prior_std_refit"
   ]
  },
  {
   "cell_type": "code",
   "execution_count": 389,
   "id": "75ab272c",
   "metadata": {},
   "outputs": [
    {
     "data": {
      "text/plain": [
       "array([ 7.,  7.,  7.,  7.,  7.,  7., 17., 17.,  7.,  7.,  7.,  7., 17.,\n",
       "       17.,  7.])"
      ]
     },
     "execution_count": 389,
     "metadata": {},
     "output_type": "execute_result"
    }
   ],
   "source": [
    "prior_std_fit"
   ]
  },
  {
   "cell_type": "code",
   "execution_count": 390,
   "id": "29fcc142",
   "metadata": {},
   "outputs": [
    {
     "data": {
      "image/png": "[encoded data removed]",
      "text/plain": [
       "<Figure size 1500x500 with 3 Axes>"
      ]
     },
     "metadata": {},
     "output_type": "display_data"
    }
   ],
   "source": [
    "# Plot the real data, simulated data\n",
    "\n",
    "# Draw scatter plots and lines\n",
    "fig, axs = plt.subplots(1, 3, figsize=(15,5))\n",
    "\n",
    "# True answer and prior fit\n",
    "axs[0].scatter(true_answer, simu_answers)\n",
    "m, b = np.polyfit(true_answer, simu_answers, 1)\n",
    "axs[0].plot(true_answer, m*true_answer + b)\n",
    "axs[0].set_xlabel('True answer')\n",
    "axs[0].set_ylabel('Simulated answer')\n",
    "axs[0].set_title('Correlation = {:.2f}'.format(correlation_data))\n",
    "\n",
    "\n",
    "#Plot the real data fitted params, and simulated data fitted params\n",
    "\n",
    "# True and simulated data fitted prior\n",
    "axs[1].scatter(prior_std_fit, prior_std_refit)\n",
    "m, b = np.polyfit(prior_std_fit, prior_std_refit, 1)\n",
    "axs[1].plot(prior_std_fit, m*prior_std_fit + b)\n",
    "axs[1].set_xlabel('True Answer Fitted Prior std')\n",
    "axs[1].set_ylabel('Simulated Answer Fitted Prior std')\n",
    "axs[1].set_title('Correlation = {:.2f}'.format(correlation_prior))\n",
    "\n",
    "# True and simulated data fitted likelihood\n",
    "axs[2].scatter(likelihood_std_fit, likelihood_std_refit)\n",
    "m, b = np.polyfit(likelihood_std_fit, likelihood_std_refit, 1)\n",
    "axs[2].plot(likelihood_std_fit, m*likelihood_std_fit + b)\n",
    "axs[2].set_xlabel('True Answer Fitted likelihood std')\n",
    "axs[2].set_ylabel('Simulated Answer Fitted likelihood std')\n",
    "axs[2].set_title('Correlation = {:.2f}'.format(correlation_likelihood))\n",
    "\n",
    "plt.tight_layout()\n",
    "plt.show()"
   ]
  },
  {
   "cell_type": "markdown",
   "id": "8c8e15dc",
   "metadata": {},
   "source": [
    "Model validation 不太好，我感觉可能是simulate有问题，simulate的时候算完posterior之后，我是按那个pdf的频率随机再抽一个数，（另一种选择是直接选posterior最大值对应的点，但那个的simulate结果error都特别小..）或者可能是fit的时候gride search每一步比较大，精确性不高，但现有的计算已经很耗时间了..."
   ]
  }
 ],
 "metadata": {
  "kernelspec": {
   "display_name": "Python 3 (ipykernel)",
   "language": "python",
   "name": "python3"
  },
  "language_info": {
   "codemirror_mode": {
    "name": "ipython",
    "version": 3
   },
   "file_extension": ".py",
   "mimetype": "text/x-python",
   "name": "python",
   "nbconvert_exporter": "python",
   "pygments_lexer": "ipython3",
   "version": "3.9.16"
  }
 },
 "nbformat": 4,
 "nbformat_minor": 5
}
